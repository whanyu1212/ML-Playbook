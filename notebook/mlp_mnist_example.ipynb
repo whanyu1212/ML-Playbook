{
 "cells": [
  {
   "cell_type": "code",
   "execution_count": 1,
   "metadata": {},
   "outputs": [],
   "source": [
    "import sys\n",
    "sys.path.insert(0, '..')"
   ]
  },
  {
   "cell_type": "code",
   "execution_count": 2,
   "metadata": {},
   "outputs": [],
   "source": [
    "import matplotlib.pyplot as plt\n",
    "from src.basics.mlp import MLP\n",
    "from sklearn.datasets import fetch_openml\n",
    "from sklearn.model_selection import train_test_split"
   ]
  },
  {
   "cell_type": "code",
   "execution_count": 3,
   "metadata": {},
   "outputs": [
    {
     "name": "stdout",
     "output_type": "stream",
     "text": [
      "(70000, 784)\n",
      "(70000,)\n"
     ]
    }
   ],
   "source": [
    "X, y = fetch_openml('mnist_784', version=1, return_X_y=True)\n",
    "X = X.values\n",
    "y = y.astype(int).values\n",
    "\n",
    "print(X.shape)\n",
    "print(y.shape)"
   ]
  },
  {
   "cell_type": "code",
   "execution_count": 4,
   "metadata": {},
   "outputs": [],
   "source": [
    "X = ((X / 255.) - .5) * 2"
   ]
  },
  {
   "cell_type": "code",
   "execution_count": 5,
   "metadata": {},
   "outputs": [
    {
     "data": {
      "image/png": "[encoded data removed]",
      "text/plain": [
       "<Figure size 640x480 with 10 Axes>"
      ]
     },
     "metadata": {},
     "output_type": "display_data"
    }
   ],
   "source": [
    "fig, ax = plt.subplots(nrows=2, ncols=5, sharex=True, sharey=True)\n",
    "ax = ax.flatten()\n",
    "for i in range(10):\n",
    "    img = X[y == i][0].reshape(28, 28)\n",
    "    ax[i].imshow(img, cmap='Greys')\n",
    "\n",
    "ax[0].set_xticks([])\n",
    "ax[0].set_yticks([])\n",
    "plt.tight_layout()\n",
    "plt.show()"
   ]
  },
  {
   "cell_type": "code",
   "execution_count": 6,
   "metadata": {},
   "outputs": [],
   "source": [
    "X_temp, X_test, y_temp, y_test = train_test_split(\n",
    "    X, y, test_size=10000, random_state=123, stratify=y)\n",
    "\n",
    "X_train, X_valid, y_train, y_valid = train_test_split(\n",
    "    X_temp, y_temp, test_size=5000, random_state=123, stratify=y_temp)\n",
    "\n",
    "\n",
    "# optional to free up some memory by deleting non-used arrays:\n",
    "del X_temp, y_temp, X, y"
   ]
  },
  {
   "cell_type": "code",
   "execution_count": 7,
   "metadata": {},
   "outputs": [],
   "source": [
    "model = MLP(num_features=28*28,\n",
    "                     num_hidden=50,\n",
    "                     num_classes=10)"
   ]
  },
  {
   "cell_type": "code",
   "execution_count": 8,
   "metadata": {},
   "outputs": [
    {
     "name": "stdout",
     "output_type": "stream",
     "text": [
      "Epoch 1, Train Loss: 1.4296, Train Accuracy: 0.7061, Val Loss: 1.4222, Val Accuracy: 0.7084\n",
      "Epoch 2, Train Loss: 0.9223, Train Accuracy: 0.8062, Val Loss: 0.9134, Val Accuracy: 0.8046\n",
      "Epoch 3, Train Loss: 0.6947, Train Accuracy: 0.8477, Val Loss: 0.6856, Val Accuracy: 0.8514\n",
      "Epoch 4, Train Loss: 0.5770, Train Accuracy: 0.8635, Val Loss: 0.5689, Val Accuracy: 0.8672\n",
      "Epoch 5, Train Loss: 0.5035, Train Accuracy: 0.8763, Val Loss: 0.4964, Val Accuracy: 0.8816\n",
      "Epoch 6, Train Loss: 0.4567, Train Accuracy: 0.8833, Val Loss: 0.4511, Val Accuracy: 0.8878\n",
      "Epoch 7, Train Loss: 0.4223, Train Accuracy: 0.8904, Val Loss: 0.4178, Val Accuracy: 0.8924\n",
      "Epoch 8, Train Loss: 0.3974, Train Accuracy: 0.8940, Val Loss: 0.3945, Val Accuracy: 0.8952\n",
      "Epoch 9, Train Loss: 0.3772, Train Accuracy: 0.8983, Val Loss: 0.3750, Val Accuracy: 0.8984\n",
      "Epoch 10, Train Loss: 0.3612, Train Accuracy: 0.9009, Val Loss: 0.3598, Val Accuracy: 0.9010\n",
      "Epoch 11, Train Loss: 0.3478, Train Accuracy: 0.9043, Val Loss: 0.3481, Val Accuracy: 0.9030\n",
      "Epoch 12, Train Loss: 0.3361, Train Accuracy: 0.9064, Val Loss: 0.3373, Val Accuracy: 0.9060\n",
      "Epoch 13, Train Loss: 0.3265, Train Accuracy: 0.9087, Val Loss: 0.3274, Val Accuracy: 0.9100\n",
      "Epoch 14, Train Loss: 0.3174, Train Accuracy: 0.9106, Val Loss: 0.3203, Val Accuracy: 0.9104\n",
      "Epoch 15, Train Loss: 0.3099, Train Accuracy: 0.9127, Val Loss: 0.3133, Val Accuracy: 0.9120\n",
      "Epoch 16, Train Loss: 0.3030, Train Accuracy: 0.9143, Val Loss: 0.3077, Val Accuracy: 0.9134\n",
      "Epoch 17, Train Loss: 0.2966, Train Accuracy: 0.9160, Val Loss: 0.3013, Val Accuracy: 0.9158\n",
      "Epoch 18, Train Loss: 0.2902, Train Accuracy: 0.9176, Val Loss: 0.2963, Val Accuracy: 0.9166\n",
      "Epoch 19, Train Loss: 0.2846, Train Accuracy: 0.9187, Val Loss: 0.2911, Val Accuracy: 0.9184\n",
      "Epoch 20, Train Loss: 0.2797, Train Accuracy: 0.9197, Val Loss: 0.2860, Val Accuracy: 0.9208\n"
     ]
    }
   ],
   "source": [
    "MLP.fit(model, X_train, y_train, X_valid, y_valid, epochs=20, batch_size=60, learning_rate=0.01)"
   ]
  },
  {
   "cell_type": "code",
   "execution_count": 9,
   "metadata": {},
   "outputs": [
    {
     "data": {
      "text/plain": [
       "0.9185"
      ]
     },
     "execution_count": 9,
     "metadata": {},
     "output_type": "execute_result"
    }
   ],
   "source": [
    "model.evaluate(X_test, y_test)"
   ]
  }
 ],
 "metadata": {
  "kernelspec": {
   "display_name": "ml-playbook-Z_ByRXRg-py3.12",
   "language": "python",
   "name": "python3"
  },
  "language_info": {
   "codemirror_mode": {
    "name": "ipython",
    "version": 3
   },
   "file_extension": ".py",
   "mimetype": "text/x-python",
   "name": "python",
   "nbconvert_exporter": "python",
   "pygments_lexer": "ipython3",
   "version": "3.12.4"
  }
 },
 "nbformat": 4,
 "nbformat_minor": 2
}
