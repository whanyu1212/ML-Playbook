{
 "cells": [
  {
   "cell_type": "code",
   "execution_count": 1,
   "metadata": {},
   "outputs": [],
   "source": [
    "import torch\n",
    "import torch.nn as nn\n",
    "import torchvision\n",
    "import numpy as np\n",
    "import matplotlib.pyplot as plt\n",
    "from torch.utils.data import TensorDataset\n",
    "from torch.utils.data import DataLoader"
   ]
  },
  {
   "cell_type": "markdown",
   "metadata": {},
   "source": [
    "### Basic Linear Regression using PyTorch"
   ]
  },
  {
   "cell_type": "code",
   "execution_count": 2,
   "metadata": {},
   "outputs": [
    {
     "data": {
      "image/png": "[encoded data removed]",
      "text/plain": [
       "<Figure size 640x480 with 1 Axes>"
      ]
     },
     "metadata": {},
     "output_type": "display_data"
    }
   ],
   "source": [
    "X_train = np.arange(10, dtype='float32').reshape((10, 1))\n",
    "y_train = np.array([1.0, 1.3, 3.1, 2.0, 5.0, \n",
    "                    6.3, 6.6,7.4, 8.0,\n",
    "                    9.0], dtype='float32')\n",
    "plt.plot(X_train, y_train, 'o', markersize=10)\n",
    "plt.xlabel('x')\n",
    "plt.ylabel('y')\n",
    "plt.show()"
   ]
  },
  {
   "cell_type": "code",
   "execution_count": 3,
   "metadata": {},
   "outputs": [],
   "source": [
    "X_train_norm = (X_train - np.mean(X_train)) / np.std(X_train)\n",
    "X_train_norm = torch.from_numpy(X_train_norm)\n",
    "y_train = torch.from_numpy(y_train).float()\n",
    "train_ds = TensorDataset(X_train_norm, y_train)\n",
    "batch_size = 1\n",
    "train_dl = DataLoader(train_ds, batch_size, shuffle=True)"
   ]
  },
  {
   "cell_type": "code",
   "execution_count": 4,
   "metadata": {},
   "outputs": [],
   "source": [
    "torch.manual_seed(1)\n",
    "weight = torch.randn(1)\n",
    "weight.requires_grad_()\n",
    "bias = torch.zeros(1, requires_grad=True)\n",
    "def model(xb):\n",
    "    return xb @ weight + bias"
   ]
  },
  {
   "cell_type": "code",
   "execution_count": 5,
   "metadata": {},
   "outputs": [],
   "source": [
    "def loss_fn(input, target):\n",
    "    return (input-target).pow(2).mean()"
   ]
  },
  {
   "cell_type": "code",
   "execution_count": 6,
   "metadata": {},
   "outputs": [
    {
     "name": "stdout",
     "output_type": "stream",
     "text": [
      "Epoch 0  Loss 26.1645\n",
      "Epoch 0  Loss 51.6394\n",
      "Epoch 0  Loss 3.2416\n",
      "Epoch 0  Loss 34.2775\n",
      "Epoch 0  Loss 4.0691\n",
      "Epoch 0  Loss 12.5163\n",
      "Epoch 0  Loss 5.2662\n",
      "Epoch 0  Loss 31.3576\n",
      "Epoch 0  Loss 62.2556\n",
      "Epoch 0  Loss 39.8977\n",
      "Epoch 10  Loss 27.3883\n",
      "Epoch 10  Loss 9.1237\n",
      "Epoch 10  Loss 34.2721\n",
      "Epoch 10  Loss 1.8903\n",
      "Epoch 10  Loss 41.7755\n",
      "Epoch 10  Loss 20.5131\n",
      "Epoch 10  Loss 2.6665\n",
      "Epoch 10  Loss 3.0358\n",
      "Epoch 10  Loss 18.0895\n",
      "Epoch 10  Loss 23.7719\n",
      "Epoch 20  Loss 2.2393\n",
      "Epoch 20  Loss 18.1441\n",
      "Epoch 20  Loss 22.8591\n",
      "Epoch 20  Loss 13.6344\n",
      "Epoch 20  Loss 13.1109\n",
      "Epoch 20  Loss 27.7845\n",
      "Epoch 20  Loss 1.1664\n",
      "Epoch 20  Loss 6.5079\n",
      "Epoch 20  Loss 17.0177\n",
      "Epoch 20  Loss 1.0158\n",
      "Epoch 30  Loss 12.6522\n",
      "Epoch 30  Loss 1.6703\n",
      "Epoch 30  Loss 19.0031\n",
      "Epoch 30  Loss 4.8064\n",
      "Epoch 30  Loss 11.7776\n",
      "Epoch 30  Loss 0.5411\n",
      "Epoch 30  Loss 8.8321\n",
      "Epoch 30  Loss 0.3889\n",
      "Epoch 30  Loss 9.4197\n",
      "Epoch 30  Loss 14.8444\n",
      "Epoch 40  Loss 0.2667\n",
      "Epoch 40  Loss 7.0808\n",
      "Epoch 40  Loss 7.8598\n",
      "Epoch 40  Loss 3.5674\n",
      "Epoch 40  Loss 10.0799\n",
      "Epoch 40  Loss 5.7612\n",
      "Epoch 40  Loss 9.0937\n",
      "Epoch 40  Loss 0.0640\n",
      "Epoch 40  Loss 1.2487\n",
      "Epoch 40  Loss 12.4277\n",
      "Epoch 50  Loss 1.0026\n",
      "Epoch 50  Loss 0.1025\n",
      "Epoch 50  Loss 2.7045\n",
      "Epoch 50  Loss 5.2567\n",
      "Epoch 50  Loss 6.7453\n",
      "Epoch 50  Loss 6.8070\n",
      "Epoch 50  Loss 3.7188\n",
      "Epoch 50  Loss 0.0024\n",
      "Epoch 50  Loss 8.3851\n",
      "Epoch 50  Loss 4.9904\n",
      "Epoch 60  Loss 2.0959\n",
      "Epoch 60  Loss 4.4717\n",
      "Epoch 60  Loss 3.9865\n",
      "Epoch 60  Loss 5.1512\n",
      "Epoch 60  Loss 0.0834\n",
      "Epoch 60  Loss 5.6284\n",
      "Epoch 60  Loss 2.3519\n",
      "Epoch 60  Loss 3.2518\n",
      "Epoch 60  Loss 0.0262\n",
      "Epoch 60  Loss 0.7894\n",
      "Epoch 70  Loss 0.2293\n",
      "Epoch 70  Loss 0.0019\n",
      "Epoch 70  Loss 1.5379\n",
      "Epoch 70  Loss 0.6461\n",
      "Epoch 70  Loss 2.9451\n",
      "Epoch 70  Loss 3.0782\n",
      "Epoch 70  Loss 3.9576\n",
      "Epoch 70  Loss 1.6142\n",
      "Epoch 70  Loss 2.1350\n",
      "Epoch 70  Loss 3.7337\n",
      "Epoch 80  Loss 0.5322\n",
      "Epoch 80  Loss 0.4211\n",
      "Epoch 80  Loss 1.4097\n",
      "Epoch 80  Loss 0.0041\n",
      "Epoch 80  Loss 1.3083\n",
      "Epoch 80  Loss 0.9487\n",
      "Epoch 80  Loss 1.9264\n",
      "Epoch 80  Loss 2.5220\n",
      "Epoch 80  Loss 3.0833\n",
      "Epoch 80  Loss 2.3939\n",
      "Epoch 90  Loss 0.0219\n",
      "Epoch 90  Loss 1.0711\n",
      "Epoch 90  Loss 1.9519\n",
      "Epoch 90  Loss 0.6223\n",
      "Epoch 90  Loss 2.4925\n",
      "Epoch 90  Loss 1.2619\n",
      "Epoch 90  Loss 1.6884\n",
      "Epoch 90  Loss 0.5621\n",
      "Epoch 90  Loss 0.8607\n",
      "Epoch 90  Loss 0.4472\n",
      "Epoch 100  Loss 0.8310\n",
      "Epoch 100  Loss 0.3870\n",
      "Epoch 100  Loss 0.5579\n",
      "Epoch 100  Loss 2.0238\n",
      "Epoch 100  Loss 0.8791\n",
      "Epoch 100  Loss 1.5796\n",
      "Epoch 100  Loss 0.3330\n",
      "Epoch 100  Loss 0.8245\n",
      "Epoch 100  Loss 0.0517\n",
      "Epoch 100  Loss 1.1216\n",
      "Epoch 110  Loss 0.9742\n",
      "Epoch 110  Loss 0.5397\n",
      "Epoch 110  Loss 0.7600\n",
      "Epoch 110  Loss 0.1968\n",
      "Epoch 110  Loss 0.3376\n",
      "Epoch 110  Loss 0.3440\n",
      "Epoch 110  Loss 0.7606\n",
      "Epoch 110  Loss 0.0768\n",
      "Epoch 110  Loss 1.6769\n",
      "Epoch 110  Loss 1.3220\n",
      "Epoch 120  Loss 1.4355\n",
      "Epoch 120  Loss 1.1357\n",
      "Epoch 120  Loss 0.2059\n",
      "Epoch 120  Loss 0.3388\n",
      "Epoch 120  Loss 0.6450\n",
      "Epoch 120  Loss 0.5028\n",
      "Epoch 120  Loss 0.1005\n",
      "Epoch 120  Loss 0.2944\n",
      "Epoch 120  Loss 1.1504\n",
      "Epoch 120  Loss 0.1076\n",
      "Epoch 130  Loss 0.0540\n",
      "Epoch 130  Loss 0.1301\n",
      "Epoch 130  Loss 0.3441\n",
      "Epoch 130  Loss 0.2752\n",
      "Epoch 130  Loss 0.1210\n",
      "Epoch 130  Loss 1.2657\n",
      "Epoch 130  Loss 0.2165\n",
      "Epoch 130  Loss 1.2359\n",
      "Epoch 130  Loss 0.9849\n",
      "Epoch 130  Loss 0.5718\n",
      "Epoch 140  Loss 0.0691\n",
      "Epoch 140  Loss 0.1535\n",
      "Epoch 140  Loss 0.2514\n",
      "Epoch 140  Loss 0.0235\n",
      "Epoch 140  Loss 1.3798\n",
      "Epoch 140  Loss 0.8781\n",
      "Epoch 140  Loss 0.1372\n",
      "Epoch 140  Loss 0.5148\n",
      "Epoch 140  Loss 1.0854\n",
      "Epoch 140  Loss 0.2256\n",
      "Epoch 150  Loss 0.0080\n",
      "Epoch 150  Loss 0.2312\n",
      "Epoch 150  Loss 0.0365\n",
      "Epoch 150  Loss 0.4641\n",
      "Epoch 150  Loss 0.9713\n",
      "Epoch 150  Loss 0.7769\n",
      "Epoch 150  Loss 0.1527\n",
      "Epoch 150  Loss 0.1818\n",
      "Epoch 150  Loss 0.0817\n",
      "Epoch 150  Loss 1.4922\n",
      "Epoch 160  Loss 0.8871\n",
      "Epoch 160  Loss 0.4289\n",
      "Epoch 160  Loss 1.5675\n",
      "Epoch 160  Loss 0.1924\n",
      "Epoch 160  Loss 0.7177\n",
      "Epoch 160  Loss 0.0012\n",
      "Epoch 160  Loss 0.2179\n",
      "Epoch 160  Loss 0.0168\n",
      "Epoch 160  Loss 0.1020\n",
      "Epoch 160  Loss 0.0495\n",
      "Epoch 170  Loss 0.0696\n",
      "Epoch 170  Loss 0.0000\n",
      "Epoch 170  Loss 0.0297\n",
      "Epoch 170  Loss 1.6284\n",
      "Epoch 170  Loss 0.2033\n",
      "Epoch 170  Loss 0.4096\n",
      "Epoch 170  Loss 0.8188\n",
      "Epoch 170  Loss 0.6627\n",
      "Epoch 170  Loss 0.2081\n",
      "Epoch 170  Loss 0.0064\n",
      "Epoch 180  Loss 0.6196\n",
      "Epoch 180  Loss 0.1955\n",
      "Epoch 180  Loss 0.0168\n",
      "Epoch 180  Loss 1.6953\n",
      "Epoch 180  Loss 0.7617\n",
      "Epoch 180  Loss 0.2224\n",
      "Epoch 180  Loss 0.0019\n",
      "Epoch 180  Loss 0.0453\n",
      "Epoch 180  Loss 0.3797\n",
      "Epoch 180  Loss 0.0017\n",
      "Epoch 190  Loss 0.0001\n",
      "Epoch 190  Loss 0.2320\n",
      "Epoch 190  Loss 0.3631\n",
      "Epoch 190  Loss 0.1901\n",
      "Epoch 190  Loss 0.0090\n",
      "Epoch 190  Loss 0.0050\n",
      "Epoch 190  Loss 0.7167\n",
      "Epoch 190  Loss 0.5810\n",
      "Epoch 190  Loss 1.7477\n",
      "Epoch 190  Loss 0.0305\n"
     ]
    }
   ],
   "source": [
    "learning_rate = 0.001\n",
    "num_epochs = 200\n",
    "log_epochs = 10\n",
    "for epoch in range(num_epochs):\n",
    "    for x_batch, y_batch in train_dl:\n",
    "        pred = model(x_batch)\n",
    "        loss = loss_fn(pred, y_batch.long())\n",
    "        loss.backward()\n",
    "        with torch.no_grad():\n",
    "            weight -= weight.grad * learning_rate\n",
    "            bias -= bias.grad * learning_rate\n",
    "            weight.grad.zero_() \n",
    "            bias.grad.zero_()   \n",
    "        if epoch % log_epochs==0:\n",
    "            print(f'Epoch {epoch}  Loss {loss.item():.4f}')\n"
   ]
  },
  {
   "cell_type": "code",
   "execution_count": 7,
   "metadata": {},
   "outputs": [
    {
     "name": "stdout",
     "output_type": "stream",
     "text": [
      "Final Parameters: 2.644019603729248 4.712854862213135\n"
     ]
    },
    {
     "data": {
      "image/png": "[encoded data removed]",
      "text/plain": [
       "<Figure size 1300x500 with 1 Axes>"
      ]
     },
     "metadata": {},
     "output_type": "display_data"
    }
   ],
   "source": [
    "print('Final Parameters:', weight.item(), bias.item())\n",
    "X_test = np.linspace(0, 9, num=100, dtype='float32').reshape(-1, 1)\n",
    "X_test_norm = (X_test - np.mean(X_train)) / np.std(X_train)\n",
    "X_test_norm = torch.from_numpy(X_test_norm)\n",
    "y_pred = model(X_test_norm).detach().numpy()\n",
    "fig = plt.figure(figsize=(13, 5))\n",
    "ax = fig.add_subplot(1, 2, 1)\n",
    "plt.plot(X_train_norm, y_train, 'o', markersize=10)\n",
    "plt.plot(X_test_norm, y_pred, '--', lw=3)\n",
    "plt.legend(['Training examples', 'Linear reg.'], fontsize=15)\n",
    "ax.set_xlabel('x', size=15)\n",
    "ax.set_ylabel('y', size=15)\n",
    "ax.tick_params(axis='both', which='major', labelsize=15)\n",
    "plt.show()"
   ]
  },
  {
   "cell_type": "markdown",
   "metadata": {},
   "source": [
    "### Model training via the torch.nn and torch.optim modules"
   ]
  },
  {
   "cell_type": "code",
   "execution_count": 8,
   "metadata": {},
   "outputs": [],
   "source": [
    "loss_fn = nn.MSELoss(reduction='mean')\n",
    "input_size = 1\n",
    "output_size = 1\n",
    "model = nn.Linear(input_size, output_size)\n",
    "optimizer = torch.optim.SGD(model.parameters(), lr=learning_rate)"
   ]
  },
  {
   "cell_type": "code",
   "execution_count": 9,
   "metadata": {},
   "outputs": [
    {
     "name": "stdout",
     "output_type": "stream",
     "text": [
      "Epoch 0  Loss 24.6684\n",
      "Epoch 10  Loss 29.1377\n",
      "Epoch 20  Loss 20.9207\n",
      "Epoch 30  Loss 0.1257\n",
      "Epoch 40  Loss 12.4922\n",
      "Epoch 50  Loss 1.7845\n",
      "Epoch 60  Loss 7.6425\n",
      "Epoch 70  Loss 2.5606\n",
      "Epoch 80  Loss 0.0157\n",
      "Epoch 90  Loss 0.7548\n",
      "Epoch 100  Loss 0.8412\n",
      "Epoch 110  Loss 0.4923\n",
      "Epoch 120  Loss 0.0823\n",
      "Epoch 130  Loss 0.0794\n",
      "Epoch 140  Loss 0.0891\n",
      "Epoch 150  Loss 0.0973\n",
      "Epoch 160  Loss 0.1043\n",
      "Epoch 170  Loss 0.1103\n",
      "Epoch 180  Loss 0.0009\n",
      "Epoch 190  Loss 0.0764\n"
     ]
    }
   ],
   "source": [
    "for epoch in range(num_epochs):\n",
    "    for x_batch, y_batch in train_dl:\n",
    "         # 1. Generate predictions\n",
    "        pred = model(x_batch)[:, 0]\n",
    "         # 2. Calculate loss\n",
    "        loss = loss_fn(pred, y_batch)\n",
    "         # 3. Compute gradients\n",
    "        loss.backward()\n",
    "         # 4. Update parameters using gradients\n",
    "        optimizer.step()\n",
    "         # 5. Reset the gradients to zero\n",
    "        optimizer.zero_grad()    \n",
    "    if epoch % log_epochs==0:\n",
    "         print(f'Epoch {epoch}  Loss {loss.item():.4f}')\n"
   ]
  },
  {
   "cell_type": "code",
   "execution_count": 10,
   "metadata": {},
   "outputs": [
    {
     "name": "stdout",
     "output_type": "stream",
     "text": [
      "Final Parameters: 2.6496422290802 4.87706995010376\n"
     ]
    }
   ],
   "source": [
    "print('Final Parameters:', model.weight.item(), model.bias.item())"
   ]
  },
  {
   "cell_type": "markdown",
   "metadata": {},
   "source": [
    "### Building a multilayer perceptron for classifying flowers in the Iris dataset"
   ]
  },
  {
   "cell_type": "code",
   "execution_count": 11,
   "metadata": {},
   "outputs": [],
   "source": [
    "from sklearn.datasets import load_iris\n",
    "from sklearn.model_selection import train_test_split \n",
    "iris = load_iris()\n",
    "X = iris['data']\n",
    "y = iris['target']\n",
    "X_train, X_test, y_train, y_test = train_test_split(X, y, test_size=1./3, random_state=1)"
   ]
  },
  {
   "cell_type": "code",
   "execution_count": 12,
   "metadata": {},
   "outputs": [],
   "source": [
    "X_train_norm = (X_train - np.mean(X_train)) / np.std(X_train)\n",
    "X_train_norm = torch.from_numpy(X_train_norm).float()\n",
    "y_train = torch.from_numpy(y_train) \n",
    "train_ds = TensorDataset(X_train_norm, y_train)\n",
    "torch.manual_seed(1)\n",
    "batch_size = 2\n",
    "train_dl = DataLoader(train_ds, batch_size, shuffle=True)"
   ]
  },
  {
   "cell_type": "code",
   "execution_count": 21,
   "metadata": {},
   "outputs": [],
   "source": [
    "class Model(nn.Module):\n",
    "    def __init__(self, input_size, hidden_size, output_size):\n",
    "        # Call the parent class (nn.Module) constructor\n",
    "        super().__init__()\n",
    "        \n",
    "        # Define the first linear layer with input size and hidden size\n",
    "        self.layer1 = nn.Linear(input_size, hidden_size)\n",
    "        \n",
    "        # Define the second linear layer with hidden size and output size\n",
    "        self.layer2 = nn.Linear(hidden_size, output_size)\n",
    "\n",
    "    def forward(self, x):\n",
    "        # Pass the input through the first linear layer\n",
    "        x = self.layer1(x)\n",
    "        \n",
    "        # Apply the Sigmoid activation function to the output of the first layer\n",
    "        x = nn.Sigmoid()(x)\n",
    "        \n",
    "        # Pass the result through the second linear layer\n",
    "        x = self.layer2(x)\n",
    "        \n",
    "        # Apply the Softmax activation function to the output of the second layer\n",
    "        x = nn.Softmax(dim=1)(x)\n",
    "        # Return the final output\n",
    "        return x\n",
    "    \n",
    "input_size = X_train_norm.shape[1]\n",
    "hidden_size = 16\n",
    "output_size = 3 \n",
    "model = Model(input_size, hidden_size, output_size)"
   ]
  },
  {
   "cell_type": "code",
   "execution_count": 22,
   "metadata": {},
   "outputs": [],
   "source": [
    "learning_rate = 0.001\n",
    "loss_fn = nn.CrossEntropyLoss()\n",
    "optimizer = torch.optim.Adam(model.parameters(), lr=learning_rate)"
   ]
  },
  {
   "cell_type": "code",
   "execution_count": 23,
   "metadata": {},
   "outputs": [],
   "source": [
    "num_epochs = 100\n",
    "loss_hist = [0] * num_epochs\n",
    "accuracy_hist = [0] * num_epochs\n",
    "for epoch in range(num_epochs):\n",
    "    for x_batch, y_batch in train_dl:\n",
    "        pred = model(x_batch)\n",
    "        loss = loss_fn(pred, y_batch)\n",
    "        loss.backward()\n",
    "        optimizer.step()\n",
    "        optimizer.zero_grad()\n",
    "        loss_hist[epoch] += loss.item()*y_batch.size(0)\n",
    "        is_correct = (torch.argmax(pred, dim=1) == y_batch).float()\n",
    "        accuracy_hist[epoch] += is_correct.sum()\n",
    "    loss_hist[epoch] /= len(train_dl.dataset)\n",
    "    accuracy_hist[epoch] /= len(train_dl.dataset)\n"
   ]
  },
  {
   "cell_type": "code",
   "execution_count": 24,
   "metadata": {},
   "outputs": [
    {
     "data": {
      "image/png": "[encoded data removed]",
      "text/plain": [
       "<Figure size 1200x500 with 2 Axes>"
      ]
     },
     "metadata": {},
     "output_type": "display_data"
    }
   ],
   "source": [
    "fig = plt.figure(figsize=(12, 5))\n",
    "ax = fig.add_subplot(1, 2, 1)\n",
    "ax.plot(loss_hist, lw=3)\n",
    "ax.set_title('Training loss', size=15)\n",
    "ax.set_xlabel('Epoch', size=15)\n",
    "ax.tick_params(axis='both', which='major', labelsize=15)\n",
    "ax = fig.add_subplot(1, 2, 2)\n",
    "ax.plot(accuracy_hist, lw=3)\n",
    "ax.set_title('Training accuracy', size=15)\n",
    "ax.set_xlabel('Epoch', size=15)\n",
    "ax.tick_params(axis='both', which='major', labelsize=15)\n",
    "plt.show()"
   ]
  },
  {
   "cell_type": "code",
   "execution_count": 25,
   "metadata": {},
   "outputs": [
    {
     "name": "stdout",
     "output_type": "stream",
     "text": [
      "Test Acc.: 0.9800\n"
     ]
    }
   ],
   "source": [
    "X_test_norm = (X_test - np.mean(X_train)) / np.std(X_train)\n",
    "X_test_norm = torch.from_numpy(X_test_norm).float()\n",
    "y_test = torch.from_numpy(y_test) \n",
    "pred_test = model(X_test_norm)\n",
    "correct = (torch.argmax(pred_test, dim=1) == y_test).float()\n",
    "accuracy = correct.mean()\n",
    "print(f'Test Acc.: {accuracy:.4f}')"
   ]
  },
  {
   "cell_type": "code",
   "execution_count": null,
   "metadata": {},
   "outputs": [],
   "source": [
    "# path = 'iris_classifier.pt'\n",
    "# torch.save(model, path)"
   ]
  }
 ],
 "metadata": {
  "kernelspec": {
   "display_name": "ml-playbook-Z_ByRXRg-py3.12",
   "language": "python",
   "name": "python3"
  },
  "language_info": {
   "codemirror_mode": {
    "name": "ipython",
    "version": 3
   },
   "file_extension": ".py",
   "mimetype": "text/x-python",
   "name": "python",
   "nbconvert_exporter": "python",
   "pygments_lexer": "ipython3",
   "version": "3.12.4"
  }
 },
 "nbformat": 4,
 "nbformat_minor": 2
}
